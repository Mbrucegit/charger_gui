{
 "cells": [
  {
   "cell_type": "code",
   "execution_count": 1,
   "id": "737f60bc",
   "metadata": {},
   "outputs": [],
   "source": [
    "import os"
   ]
  },
  {
   "cell_type": "code",
   "execution_count": 6,
   "id": "d5649613",
   "metadata": {},
   "outputs": [
    {
     "name": "stdout",
     "output_type": "stream",
     "text": [
      "tableUI.ui\n",
      "main_window.py\n",
      "Module.ipynb\n",
      "combobox.py\n",
      "Open_window2.ui\n",
      "text_box.py\n",
      "Front_Ui.ui\n",
      "open_window2.py\n",
      "Signal_text.ui\n",
      "signal_text.py\n",
      "sqlite_conn.py\n",
      "__pycache__\n",
      "README\n",
      "instrument_init.py\n",
      "spin_box.py\n",
      "calculator.py\n",
      "open_window.ui\n",
      "q_form_layput.py\n",
      "Pandas_MVC.py\n",
      "winfield_spreadsheet.py\n",
      "progress_bar.py\n",
      ".ipynb_checkpoints\n",
      "open_window1.ui\n",
      "venv\n",
      "test.db\n",
      "open_window1.py\n",
      ".git\n",
      "todo.py\n",
      "hala_table.py\n",
      ".idea\n"
     ]
    }
   ],
   "source": [
    "for f in os.listdir():\n",
    "    print(f)"
   ]
  },
  {
   "cell_type": "code",
   "execution_count": null,
   "id": "7f187047",
   "metadata": {},
   "outputs": [],
   "source": []
  }
 ],
 "metadata": {
  "kernelspec": {
   "display_name": "Python 3 (ipykernel)",
   "language": "python",
   "name": "python3"
  },
  "language_info": {
   "codemirror_mode": {
    "name": "ipython",
    "version": 3
   },
   "file_extension": ".py",
   "mimetype": "text/x-python",
   "name": "python",
   "nbconvert_exporter": "python",
   "pygments_lexer": "ipython3",
   "version": "3.9.7"
  }
 },
 "nbformat": 4,
 "nbformat_minor": 5
}
